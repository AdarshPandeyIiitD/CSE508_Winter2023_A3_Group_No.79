{
 "cells": [
  {
   "cell_type": "code",
   "execution_count": 18,
   "id": "41f59823",
   "metadata": {},
   "outputs": [
    {
     "name": "stdout",
     "output_type": "stream",
     "text": [
      "step 1\n"
     ]
    }
   ],
   "source": [
    "import numpy as np\n",
    "import pandas as pd\n",
    "import matplotlib.pyplot as plt\n",
    "import networkx as nx\n",
    "\n",
    "print(\"step 1\")"
   ]
  },
  {
   "cell_type": "code",
   "execution_count": 19,
   "id": "f355ae69",
   "metadata": {},
   "outputs": [
    {
     "name": "stdout",
     "output_type": "stream",
     "text": [
      "step 2\n"
     ]
    }
   ],
   "source": [
    "data = pd.read_csv(\"C:\\\\Users\\\\91783\\\\Desktop\\\\IR 2023\\\\assignment3\\\\practice folder\\\\soc-sign-bitcoinalpha.csv\", header=None)\n",
    "data.columns = ['source', 'target', 'rating', 'time']\n",
    "print(\"step 2\")"
   ]
  },
  {
   "cell_type": "code",
   "execution_count": 25,
   "id": "7b630678",
   "metadata": {},
   "outputs": [
    {
     "name": "stdout",
     "output_type": "stream",
     "text": [
      "step 3\n"
     ]
    }
   ],
   "source": [
    "list_edge = []\n",
    "unique_sources = np.unique(data[\"source\"])\n",
    "list_edge = []\n",
    "\n",
    "for source in unique_sources:\n",
    "    tmp_df = data[data[\"source\"] == source]\n",
    "    tmp_edge_list = np.column_stack((tmp_df[\"source\"], tmp_df[\"target\"])).tolist()\n",
    "    list_edge += tmp_edge_list\n",
    "print(\"step 3\")"
   ]
  },
  {
   "cell_type": "code",
   "execution_count": 26,
   "id": "d7cdea51",
   "metadata": {},
   "outputs": [
    {
     "name": "stdout",
     "output_type": "stream",
     "text": [
      "step 4\n"
     ]
    }
   ],
   "source": [
    "idx_list = {val: idx for idx, val in enumerate(np.unique(np.append(np.sort(data.source.unique()), np.sort(data.target.unique()))))}\n",
    "                                               \n",
    "adj_mat_dir = np.zeros((len(idx_list), len(idx_list)))\n",
    "adj_mat_undir = np.zeros((len(idx_list), len(idx_list)))\n",
    "print(\"step 4\")"
   ]
  },
  {
   "cell_type": "code",
   "execution_count": 27,
   "id": "c3af03c4",
   "metadata": {},
   "outputs": [
    {
     "name": "stdout",
     "output_type": "stream",
     "text": [
      "step 5\n"
     ]
    }
   ],
   "source": [
    "for nodes in list_edge:\n",
    "    adj_mat_dir[idx_list[nodes[0]], idx_list[nodes[1]]] = 1\n",
    "    \n",
    "    adj_mat_undir[idx_list[nodes[0]], idx_list[nodes[1]]] = 1\n",
    "    adj_mat_undir[idx_list[nodes[1]], idx_list[nodes[0]]] = 1\n",
    "print(\"step 5\")"
   ]
  },
  {
   "cell_type": "code",
   "execution_count": 28,
   "id": "b78c351a",
   "metadata": {},
   "outputs": [
    {
     "name": "stdout",
     "output_type": "stream",
     "text": [
      "step 6\n"
     ]
    },
    {
     "name": "stderr",
     "output_type": "stream",
     "text": [
      "C:\\Users\\91783\\anaconda3\\lib\\site-packages\\networkx\\algorithms\\link_analysis\\hits_alg.py:78: FutureWarning: adjacency_matrix will return a scipy.sparse array instead of a matrix in Networkx 3.0.\n",
      "  A = nx.adjacency_matrix(G, nodelist=list(G), dtype=float)\n"
     ]
    }
   ],
   "source": [
    "G = nx.from_numpy_matrix(adj_mat_undir, create_using=nx.DiGraph)\n",
    "page_rank = nx.pagerank(G)\n",
    "hubs, authorities = nx.hits(G)\n",
    "print(\"step 6\")"
   ]
  },
  {
   "cell_type": "code",
   "execution_count": 29,
   "id": "597ac038",
   "metadata": {},
   "outputs": [
    {
     "name": "stdout",
     "output_type": "stream",
     "text": [
      "      Node  Node_id  pageRank      Hubs  Authorities\n",
      "0        1        0  0.022534  0.005426     0.005426\n",
      "1        2        1  0.006895  0.006920     0.006920\n",
      "2        3        2  0.008294  0.006310     0.006310\n",
      "3        4        3  0.007146  0.004013     0.004013\n",
      "4        5        4  0.005705  0.004776     0.004776\n",
      "...    ...      ...       ...       ...          ...\n",
      "3778  7600     3778  0.000917  0.001632     0.001632\n",
      "3779  7601     3779  0.000554  0.001203     0.001203\n",
      "3780  7602     3780  0.000598  0.001390     0.001390\n",
      "3781  7603     3781  0.003075  0.003550     0.003550\n",
      "3782  7604     3782  0.002171  0.003373     0.003373\n",
      "\n",
      "[3783 rows x 5 columns]\n",
      "step 7\n"
     ]
    }
   ],
   "source": [
    "compare = pd.DataFrame({\"Node\": list(idx_list.keys()), \"Node_id\": list(idx_list.values()), \"pageRank\": list(page_rank.values()), \"Hubs\": list(hubs.values()), \"Authorities\": list(authorities.values())})\n",
    "print(compare)\n",
    "print(\"step 7\")"
   ]
  },
  {
   "cell_type": "code",
   "execution_count": null,
   "id": "66e462c2",
   "metadata": {},
   "outputs": [],
   "source": []
  }
 ],
 "metadata": {
  "kernelspec": {
   "display_name": "Python 3 (ipykernel)",
   "language": "python",
   "name": "python3"
  },
  "language_info": {
   "codemirror_mode": {
    "name": "ipython",
    "version": 3
   },
   "file_extension": ".py",
   "mimetype": "text/x-python",
   "name": "python",
   "nbconvert_exporter": "python",
   "pygments_lexer": "ipython3",
   "version": "3.9.13"
  }
 },
 "nbformat": 4,
 "nbformat_minor": 5
}
